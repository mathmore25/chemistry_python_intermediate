{
  "nbformat": 4,
  "nbformat_minor": 0,
  "metadata": {
    "colab": {
      "name": "Introduction_pymatgen.ipynb",
      "provenance": [],
      "collapsed_sections": [],
      "authorship_tag": "ABX9TyPErhJkOomZmfG9NfEgA0vf",
      "include_colab_link": true
    },
    "kernelspec": {
      "name": "python3",
      "display_name": "Python 3"
    },
    "language_info": {
      "name": "python"
    }
  },
  "cells": [
    {
      "cell_type": "markdown",
      "metadata": {
        "id": "view-in-github",
        "colab_type": "text"
      },
      "source": [
        "<a href=\"https://colab.research.google.com/github/vinayak2019/chemistry_python_intermediate/blob/main/Introduction_pymatgen.ipynb\" target=\"_parent\"><img src=\"https://colab.research.google.com/assets/colab-badge.svg\" alt=\"Open In Colab\"/></a>"
      ]
    },
    {
      "cell_type": "markdown",
      "metadata": {
        "id": "CXDrA_pWwYbA"
      },
      "source": [
        "Please complete the survey by the end of the workshop. This will help improve the content for future workshops. This link is https://forms.gle/AohzLSuPgnJ7kfX79"
      ]
    },
    {
      "cell_type": "markdown",
      "metadata": {
        "id": "nFUJmfST1CPO"
      },
      "source": [
        "# Installing pymatgen and matminer\n",
        "\n",
        "We will install pymatgen with pip. You can create a conda environment and then install pymatgen too. Once installed with pip, you will be asked to restart the runtime. Click on \"Restart runtime\". You won't notice anything change. Proceed to the next cell to execute the commands"
      ]
    },
    {
      "cell_type": "code",
      "metadata": {
        "id": "lH6p-eEF0vav"
      },
      "source": [
        "!pip install pymatgen==2020.12.3\n",
        "!pip install matminer"
      ],
      "execution_count": null,
      "outputs": []
    },
    {
      "cell_type": "markdown",
      "metadata": {
        "id": "lF_lsv2J1txN"
      },
      "source": [
        "After restarting the runtime, run the following cell to check for completion. If no error is displayed, the installation is success."
      ]
    },
    {
      "cell_type": "code",
      "metadata": {
        "id": "ikaiwVqx1Abe"
      },
      "source": [
        "from pymatgen.core.structure import Structure\n",
        "from pymatgen.core.surface import SlabGenerator\n",
        "from matminer.datasets import load_dataset\n",
        "from sklearn import metrics\n",
        "from pymatgen import Element, Lattice\n",
        "from matminer.featurizers.conversions import StrToComposition\n",
        "from matminer.featurizers import composition as cf\n",
        "from matminer.featurizers.base import MultipleFeaturizer\n",
        "from sklearn.ensemble import RandomForestRegressor\n",
        "from sklearn.model_selection import train_test_split\n",
        "import seaborn\n",
        "import matplotlib.pyplot as plt"
      ],
      "execution_count": null,
      "outputs": []
    },
    {
      "cell_type": "markdown",
      "metadata": {
        "id": "uXP26_xxlkD0"
      },
      "source": [
        "pymatgen can handle both single molecules (Molecule class) and periodic structures (Structure class). Here we will only discuss using the periodic structure.\n",
        "\n",
        "We will create the periodic structure object from a CIF file."
      ]
    },
    {
      "cell_type": "code",
      "metadata": {
        "id": "qtniAmW-pmEs"
      },
      "source": [
        "# download the cif file\n",
        "!wget https://raw.githubusercontent.com/vinayak2019/chemistry_python_intermediate/main/nacl.cif\n",
        "\n",
        "nacl = Structure.from_file(\"nacl.cif\")\n",
        "nacl"
      ],
      "execution_count": null,
      "outputs": []
    },
    {
      "cell_type": "markdown",
      "metadata": {
        "id": "-DJQv4cMrQxn"
      },
      "source": [
        "Several parameter can be obtained from the class like the lattice dimensions, composition etc. Let's replace Na with K and generate a 2x1x3 supercell"
      ]
    },
    {
      "cell_type": "code",
      "metadata": {
        "id": "HQJkV3g5rbLt"
      },
      "source": [
        "# replacing Na with K\n",
        "nacl.replace_species({Element(\"Na\"):Element(\"K\")})\n",
        "print(\"The new structure witk K is \\n\",nacl)"
      ],
      "execution_count": null,
      "outputs": []
    },
    {
      "cell_type": "code",
      "metadata": {
        "id": "M3tmjdlhubsC"
      },
      "source": [
        "# generating supercell\n"
      ],
      "execution_count": null,
      "outputs": []
    },
    {
      "cell_type": "markdown",
      "metadata": {
        "id": "p7iGNzk8u9Lz"
      },
      "source": [
        "# **Try it yourself**\n",
        "\n",
        "Generate a BCC cell for CsCl. Then generate a 3x2X1 supercell. Finally, replace any two Cl atoms with Br atoms.\n",
        "\n",
        "Hint: The coordinates for Cs is 0.5,0.5,0.5; Cl is 0,0,0"
      ]
    },
    {
      "cell_type": "code",
      "metadata": {
        "id": "HwEkZMPvvhG-"
      },
      "source": [
        "# YOUR CODE HERE"
      ],
      "execution_count": null,
      "outputs": []
    },
    {
      "cell_type": "markdown",
      "metadata": {
        "id": "l7Zpl1ojp-WG"
      },
      "source": [
        "The hierarchy in pymatgen is Element --> Site --> Structure. In the following cell we retrieve both site and element ojects"
      ]
    },
    {
      "cell_type": "code",
      "metadata": {
        "id": "5y6Duz-WqXR-"
      },
      "source": [
        "# Structure object has a list of site\n",
        "nacl.sites"
      ],
      "execution_count": null,
      "outputs": []
    },
    {
      "cell_type": "code",
      "metadata": {
        "id": "XZcKq0RDqpzN"
      },
      "source": [
        "# Now the Element\n",
        "nacl.sites[0].specie"
      ],
      "execution_count": null,
      "outputs": []
    },
    {
      "cell_type": "markdown",
      "metadata": {
        "id": "VJ3br25Dv0YR"
      },
      "source": [
        "#**Try it yourself**\n",
        "\n",
        "Explore five methods for sites and element objects."
      ]
    },
    {
      "cell_type": "code",
      "metadata": {
        "id": "yo2OB10gx4hp"
      },
      "source": [
        "# YOUR CODE HERE"
      ],
      "execution_count": null,
      "outputs": []
    },
    {
      "cell_type": "markdown",
      "metadata": {
        "id": "qrEvWTrOzdSw"
      },
      "source": [
        "# Machine learning\n",
        "\n",
        "We will use formation energy dataset for inorganic materials and predict the formation energy given the composition of the material. We will use matminer to generate the input features.\n"
      ]
    },
    {
      "cell_type": "code",
      "metadata": {
        "id": "zFsqYx-V15gU"
      },
      "source": [
        "# loading the dataset\n",
        "df = load_dataset(\"expt_formation_enthalpy\")\n",
        "df"
      ],
      "execution_count": null,
      "outputs": []
    },
    {
      "cell_type": "code",
      "metadata": {
        "id": "c906N2ST6Cgq"
      },
      "source": [
        "# Let's get the composition and the target value - e_form expt.\n",
        "# dropna removes entries with NaN\n",
        "df = df[[\"formula\",\"e_form expt\"]].dropna()\n",
        "df"
      ],
      "execution_count": null,
      "outputs": []
    },
    {
      "cell_type": "markdown",
      "metadata": {
        "id": "65DUEuo20MU6"
      },
      "source": [
        "## Generating features\n",
        "\n",
        "We have the formula for representing the crystal. Let us convert this string into something the our random forrest model can handly easily. We will first convert the formula to a composition object then generate features with matminer "
      ]
    },
    {
      "cell_type": "code",
      "metadata": {
        "id": "Ng2nnRp91b6V"
      },
      "source": [
        "# converting the formula to composition object\n",
        "df = StrToComposition(target_col_id='composition').featurize_dataframe(df, 'formula')\n",
        "df.head()"
      ],
      "execution_count": null,
      "outputs": []
    },
    {
      "cell_type": "code",
      "metadata": {
        "id": "hDbb-d335SiX"
      },
      "source": [
        "# creating the constructor for generating the features\n",
        "# We will use compostion based features and get the names of the features\n",
        "feature_calculators = MultipleFeaturizer([cf.Stoichiometry(), cf.ElementProperty.from_preset(\"magpie\"),\n",
        "                                          cf.ValenceOrbital(props=['avg']), cf.IonProperty(fast=True)])\n",
        "\n",
        "feature_labels = feature_calculators.feature_labels()\n",
        "print(\"Number of features is \",len(feature_labels))"
      ],
      "execution_count": null,
      "outputs": []
    },
    {
      "cell_type": "code",
      "metadata": {
        "id": "fGhff6W05jR5"
      },
      "source": [
        "# creating the features\n",
        "df = feature_calculators.featurize_dataframe(df, col_id='composition')\n",
        "df.head()"
      ],
      "execution_count": null,
      "outputs": []
    },
    {
      "cell_type": "markdown",
      "metadata": {
        "id": "cNIzCJTG6byj"
      },
      "source": [
        "Now the we have the data for training a model, let's get the data into the right format and also perform a split on the data"
      ]
    },
    {
      "cell_type": "code",
      "metadata": {
        "id": "oJ9BCCd65sGp"
      },
      "source": [
        "X = df[feature_labels].values.tolist()\n",
        "y = df[\"e_form expt\"].values.tolist()\n",
        "\n",
        "# splitting the data 20% test\n",
        "X_train, X_test, y_train, y_test = train_test_split(X,y,test_size=0.2,random_state=42)"
      ],
      "execution_count": null,
      "outputs": []
    },
    {
      "cell_type": "code",
      "metadata": {
        "id": "5uXQzNGZ6Z33"
      },
      "source": [
        "# creating the random forrest model and training\n",
        "model = RandomForestRegressor(random_state=42) # initialize the model\n",
        "model.fit(X_train, y_train) # train the model\n",
        "y_predict = model.predict(X_test) # get prediction on the test set"
      ],
      "execution_count": null,
      "outputs": []
    },
    {
      "cell_type": "code",
      "metadata": {
        "id": "_uPiXglr60Le"
      },
      "source": [
        "# evaluation metrics\n",
        "print(\"R2 score is \",metrics.r2_score(y_predict,y_test))\n",
        "print(\"mean absolute error is \",metrics.mean_absolute_error(y_predict,y_test))\n",
        "print(\"mean_squared_error is \",metrics.mean_squared_error(y_predict,y_test))"
      ],
      "execution_count": null,
      "outputs": []
    },
    {
      "cell_type": "code",
      "metadata": {
        "id": "r6XjP_Jb8dv-"
      },
      "source": [
        "# plotting the prediction\n",
        "import numpy as np\n",
        "x = np.arange(-1.2,0.2,0.2)\n",
        "\n",
        "plt.scatter(y_test,y_predict)\n",
        "plt.plot(x,x,color=\"red\")\n",
        "plt.xlabel(\"True values\")\n",
        "plt.ylabel(\"Predicted values\")"
      ],
      "execution_count": null,
      "outputs": []
    },
    {
      "cell_type": "markdown",
      "metadata": {
        "id": "haCvQdA28Pu3"
      },
      "source": [
        "#**Try it yourself**\n",
        "\n",
        "Explore other featurizers available in matminer and train the model to obtain better results"
      ]
    },
    {
      "cell_type": "code",
      "metadata": {
        "id": "2Imm_71t7xWH"
      },
      "source": [
        "# YOUR CODE HERE"
      ],
      "execution_count": null,
      "outputs": []
    }
  ]
}